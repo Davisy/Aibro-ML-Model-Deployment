{
 "cells": [
  {
   "cell_type": "code",
   "execution_count": 45,
   "id": "53017fff",
   "metadata": {
    "ExecuteTime": {
     "end_time": "2022-01-21T09:57:49.936237Z",
     "start_time": "2022-01-21T09:57:49.918805Z"
    }
   },
   "outputs": [
    {
     "name": "stderr",
     "output_type": "stream",
     "text": [
      "[nltk_data] Downloading package brown to\n",
      "[nltk_data]     /Users/davisdavid/nltk_data...\n",
      "[nltk_data]   Package brown is already up-to-date!\n",
      "[nltk_data] Downloading package names to\n",
      "[nltk_data]     /Users/davisdavid/nltk_data...\n",
      "[nltk_data]   Package names is already up-to-date!\n",
      "[nltk_data] Downloading package wordnet to\n",
      "[nltk_data]     /Users/davisdavid/nltk_data...\n",
      "[nltk_data]   Package wordnet is already up-to-date!\n",
      "[nltk_data] Downloading package averaged_perceptron_tagger to\n",
      "[nltk_data]     /Users/davisdavid/nltk_data...\n",
      "[nltk_data]   Package averaged_perceptron_tagger is already up-to-\n",
      "[nltk_data]       date!\n",
      "[nltk_data] Downloading package universal_tagset to\n",
      "[nltk_data]     /Users/davisdavid/nltk_data...\n",
      "[nltk_data]   Package universal_tagset is already up-to-date!\n"
     ]
    }
   ],
   "source": [
    "# import important modules\n",
    "import numpy as np\n",
    "import pandas as pd\n",
    "# sklearn modules\n",
    "from sklearn.model_selection import train_test_split\n",
    "from sklearn.pipeline import Pipeline\n",
    "from sklearn.naive_bayes import MultinomialNB # classifier \n",
    "\n",
    "from sklearn.metrics import accuracy_score\n",
    "\n",
    "from sklearn.feature_extraction.text import TfidfVectorizer, CountVectorizer\n",
    "\n",
    "# text preprocessing modules\n",
    "from string import punctuation \n",
    "# text preprocessing modules\n",
    "from nltk.tokenize import word_tokenize\n",
    "import nltk\n",
    "from nltk.corpus import stopwords\n",
    "from nltk.stem import WordNetLemmatizer \n",
    "import re #regular expression\n",
    "# Download dependency\n",
    "for dependency in (\n",
    "    \"brown\",\n",
    "    \"names\",\n",
    "    \"wordnet\",\n",
    "    \"averaged_perceptron_tagger\",\n",
    "    \"universal_tagset\",\n",
    "):\n",
    "    nltk.download(dependency)\n",
    "    \n",
    "import warnings\n",
    "warnings.filterwarnings(\"ignore\")\n",
    "# seeding\n",
    "np.random.seed(123)"
   ]
  },
  {
   "cell_type": "code",
   "execution_count": 6,
   "id": "12c2752a",
   "metadata": {
    "ExecuteTime": {
     "end_time": "2022-01-21T09:05:07.298129Z",
     "start_time": "2022-01-21T09:05:06.970044Z"
    }
   },
   "outputs": [],
   "source": [
    "# load data\n",
    "data = pd.read_csv(\"labeledTrainData.tsv\", sep='\\t')"
   ]
  },
  {
   "cell_type": "code",
   "execution_count": 7,
   "id": "ed17a638",
   "metadata": {
    "ExecuteTime": {
     "end_time": "2022-01-21T09:05:17.180228Z",
     "start_time": "2022-01-21T09:05:17.146265Z"
    }
   },
   "outputs": [
    {
     "data": {
      "text/html": [
       "<div>\n",
       "<style scoped>\n",
       "    .dataframe tbody tr th:only-of-type {\n",
       "        vertical-align: middle;\n",
       "    }\n",
       "\n",
       "    .dataframe tbody tr th {\n",
       "        vertical-align: top;\n",
       "    }\n",
       "\n",
       "    .dataframe thead th {\n",
       "        text-align: right;\n",
       "    }\n",
       "</style>\n",
       "<table border=\"1\" class=\"dataframe\">\n",
       "  <thead>\n",
       "    <tr style=\"text-align: right;\">\n",
       "      <th></th>\n",
       "      <th>id</th>\n",
       "      <th>sentiment</th>\n",
       "      <th>review</th>\n",
       "    </tr>\n",
       "  </thead>\n",
       "  <tbody>\n",
       "    <tr>\n",
       "      <th>0</th>\n",
       "      <td>5814_8</td>\n",
       "      <td>1</td>\n",
       "      <td>With all this stuff going down at the moment w...</td>\n",
       "    </tr>\n",
       "    <tr>\n",
       "      <th>1</th>\n",
       "      <td>2381_9</td>\n",
       "      <td>1</td>\n",
       "      <td>\\The Classic War of the Worlds\\\" by Timothy Hi...</td>\n",
       "    </tr>\n",
       "    <tr>\n",
       "      <th>2</th>\n",
       "      <td>7759_3</td>\n",
       "      <td>0</td>\n",
       "      <td>The film starts with a manager (Nicholas Bell)...</td>\n",
       "    </tr>\n",
       "    <tr>\n",
       "      <th>3</th>\n",
       "      <td>3630_4</td>\n",
       "      <td>0</td>\n",
       "      <td>It must be assumed that those who praised this...</td>\n",
       "    </tr>\n",
       "    <tr>\n",
       "      <th>4</th>\n",
       "      <td>9495_8</td>\n",
       "      <td>1</td>\n",
       "      <td>Superbly trashy and wondrously unpretentious 8...</td>\n",
       "    </tr>\n",
       "  </tbody>\n",
       "</table>\n",
       "</div>"
      ],
      "text/plain": [
       "       id  sentiment                                             review\n",
       "0  5814_8          1  With all this stuff going down at the moment w...\n",
       "1  2381_9          1  \\The Classic War of the Worlds\\\" by Timothy Hi...\n",
       "2  7759_3          0  The film starts with a manager (Nicholas Bell)...\n",
       "3  3630_4          0  It must be assumed that those who praised this...\n",
       "4  9495_8          1  Superbly trashy and wondrously unpretentious 8..."
      ]
     },
     "execution_count": 7,
     "metadata": {},
     "output_type": "execute_result"
    }
   ],
   "source": [
    "# show top five rows of data\n",
    "data.head() "
   ]
  },
  {
   "cell_type": "code",
   "execution_count": 8,
   "id": "3cbcd943",
   "metadata": {
    "ExecuteTime": {
     "end_time": "2022-01-21T09:05:30.264870Z",
     "start_time": "2022-01-21T09:05:30.257223Z"
    }
   },
   "outputs": [
    {
     "data": {
      "text/plain": [
       "(25000, 3)"
      ]
     },
     "execution_count": 8,
     "metadata": {},
     "output_type": "execute_result"
    }
   ],
   "source": [
    "# check the shape of the data\n",
    "data.shape "
   ]
  },
  {
   "cell_type": "code",
   "execution_count": 9,
   "id": "65f8af4f",
   "metadata": {
    "ExecuteTime": {
     "end_time": "2022-01-21T09:05:39.839949Z",
     "start_time": "2022-01-21T09:05:39.783168Z"
    }
   },
   "outputs": [
    {
     "data": {
      "text/plain": [
       "id           0\n",
       "sentiment    0\n",
       "review       0\n",
       "dtype: int64"
      ]
     },
     "execution_count": 9,
     "metadata": {},
     "output_type": "execute_result"
    }
   ],
   "source": [
    "# check missing values in data\n",
    "data.isnull().sum() "
   ]
  },
  {
   "cell_type": "code",
   "execution_count": 10,
   "id": "b422e192",
   "metadata": {
    "ExecuteTime": {
     "end_time": "2022-01-21T09:05:49.464602Z",
     "start_time": "2022-01-21T09:05:49.445829Z"
    }
   },
   "outputs": [
    {
     "data": {
      "text/plain": [
       "1    12500\n",
       "0    12500\n",
       "Name: sentiment, dtype: int64"
      ]
     },
     "execution_count": 10,
     "metadata": {},
     "output_type": "execute_result"
    }
   ],
   "source": [
    "# evalute news sentiment distribution\n",
    "data.sentiment.value_counts() "
   ]
  },
  {
   "cell_type": "code",
   "execution_count": 13,
   "id": "6441719c",
   "metadata": {
    "ExecuteTime": {
     "end_time": "2022-01-21T09:06:56.082300Z",
     "start_time": "2022-01-21T09:06:56.063145Z"
    }
   },
   "outputs": [],
   "source": [
    "stop_words =  stopwords.words('english')\n",
    "def text_cleaning(text, remove_stop_words=True, lemmatize_words=True):\n",
    "    # Clean the text, with the option to remove stop_words and to lemmatize word\n",
    "    # Clean the text\n",
    "    text = re.sub(r\"[^A-Za-z0-9]\", \" \", text)\n",
    "    text = re.sub(r\"\\'s\", \" \", text)\n",
    "    text =  re.sub(r'http\\S+',' link ', text)\n",
    "    text = re.sub(r'\\b\\d+(?:\\.\\d+)?\\s+', '', text) # remove numbers\n",
    "        \n",
    "    # Remove punctuation from text\n",
    "    text = ''.join([c for c in text if c not in punctuation])\n",
    "    \n",
    "    # Optionally, remove stop words\n",
    "    if remove_stop_words:\n",
    "        text = text.split()\n",
    "        text = [w for w in text if not w in stop_words]\n",
    "        text = \" \".join(text)\n",
    "    \n",
    "    # Optionally, shorten words to their stems\n",
    "    if lemmatize_words:\n",
    "        text = text.split()\n",
    "        lemmatizer = WordNetLemmatizer() \n",
    "        lemmatized_words = [lemmatizer.lemmatize(word) for word in text]\n",
    "        text = \" \".join(lemmatized_words)\n",
    "    \n",
    "    # Return a list of words\n",
    "    return(text)"
   ]
  },
  {
   "cell_type": "code",
   "execution_count": 16,
   "id": "c0450f29",
   "metadata": {
    "ExecuteTime": {
     "end_time": "2022-01-21T09:08:05.173031Z",
     "start_time": "2022-01-21T09:07:42.870728Z"
    }
   },
   "outputs": [],
   "source": [
    "#clean the review\n",
    "data[\"cleaned_review\"] = data[\"review\"].apply(text_cleaning) "
   ]
  },
  {
   "cell_type": "code",
   "execution_count": 17,
   "id": "a49a6de4",
   "metadata": {
    "ExecuteTime": {
     "end_time": "2022-01-21T09:08:05.178621Z",
     "start_time": "2022-01-21T09:08:05.175283Z"
    }
   },
   "outputs": [],
   "source": [
    "#split features and target from  data \n",
    "X = data[\"cleaned_review\"]\n",
    "y = data.sentiment.values"
   ]
  },
  {
   "cell_type": "code",
   "execution_count": 18,
   "id": "dcaf8306",
   "metadata": {
    "ExecuteTime": {
     "end_time": "2022-01-21T09:08:05.196609Z",
     "start_time": "2022-01-21T09:08:05.179504Z"
    }
   },
   "outputs": [],
   "source": [
    "# split data into train and validate\n",
    "X_train, X_valid, y_train, y_valid = train_test_split(\n",
    "    X,\n",
    "    y,\n",
    "    test_size=0.15,\n",
    "    random_state=42,\n",
    "    shuffle=True,\n",
    "    stratify=y,\n",
    ")"
   ]
  },
  {
   "cell_type": "code",
   "execution_count": 43,
   "id": "53e94505",
   "metadata": {
    "ExecuteTime": {
     "end_time": "2022-01-21T09:57:37.587832Z",
     "start_time": "2022-01-21T09:57:37.574821Z"
    }
   },
   "outputs": [],
   "source": [
    "# Create a classifier in pipeline\n",
    "sentiment_classifier = Pipeline(steps=[\n",
    "                               ('pre_processing',TfidfVectorizer(lowercase=False)),\n",
    "                                 ('naive_bayes',MultinomialNB())\n",
    "                                 ])"
   ]
  },
  {
   "cell_type": "code",
   "execution_count": 46,
   "id": "5509736d",
   "metadata": {
    "ExecuteTime": {
     "end_time": "2022-01-21T09:58:13.896191Z",
     "start_time": "2022-01-21T09:57:54.694456Z"
    }
   },
   "outputs": [
    {
     "name": "stdout",
     "output_type": "stream",
     "text": [
      "Train Index:  [    0     1     2 ... 24997 24998 24999] \n",
      "\n",
      "Test Index:  [   17    29    30 ... 24974 24983 24988]\n",
      "Train Index:  [    0     1     2 ... 24996 24997 24998] \n",
      "\n",
      "Test Index:  [   44    46    54 ... 24985 24986 24999]\n",
      "Train Index:  [    0     1     2 ... 24996 24998 24999] \n",
      "\n",
      "Test Index:  [    3     6    31 ... 24968 24984 24997]\n",
      "Train Index:  [    1     2     3 ... 24997 24998 24999] \n",
      "\n",
      "Test Index:  [    0     4    19 ... 24970 24971 24992]\n",
      "Train Index:  [    0     1     2 ... 24997 24998 24999] \n",
      "\n",
      "Test Index:  [    5     8    14 ... 24969 24990 24995]\n",
      "Train Index:  [    0     1     2 ... 24997 24998 24999] \n",
      "\n",
      "Test Index:  [    7    23    36 ... 24979 24993 24994]\n",
      "Train Index:  [    0     1     3 ... 24997 24998 24999] \n",
      "\n",
      "Test Index:  [    2    10    12 ... 24946 24987 24991]\n",
      "Train Index:  [    0     2     3 ... 24997 24998 24999] \n",
      "\n",
      "Test Index:  [    1    18    48 ... 24941 24949 24973]\n",
      "Train Index:  [    0     1     2 ... 24997 24998 24999] \n",
      "\n",
      "Test Index:  [   16    24    25 ... 24953 24977 24989]\n",
      "Train Index:  [    0     1     2 ... 24995 24997 24999] \n",
      "\n",
      "Test Index:  [    9    11    13 ... 24982 24996 24998]\n"
     ]
    }
   ],
   "source": [
    "scores = []\n",
    "cv = KFold(n_splits=10, random_state=42, shuffle=True)\n",
    "for train_index, test_index in cv.split(X):\n",
    "    print(\"Train Index: \", train_index, \"\\n\")\n",
    "    print(\"Test Index: \", test_index)\n",
    "\n",
    "    X_train, X_test, y_train, y_test = X[train_index], X[test_index], y[train_index], y[test_index]\n",
    "    sentiment_classifier.fit(X_train, y_train)\n",
    "    scores.append(sentiment_classifier.score(X_test, y_test))"
   ]
  },
  {
   "cell_type": "code",
   "execution_count": 50,
   "id": "3856770a",
   "metadata": {
    "ExecuteTime": {
     "end_time": "2022-01-21T09:59:48.875759Z",
     "start_time": "2022-01-21T09:59:48.857993Z"
    }
   },
   "outputs": [
    {
     "name": "stdout",
     "output_type": "stream",
     "text": [
      "0.86764\n"
     ]
    }
   ],
   "source": [
    "print(np.mean(scores))"
   ]
  },
  {
   "cell_type": "code",
   "execution_count": 39,
   "id": "3051d8ce",
   "metadata": {
    "ExecuteTime": {
     "end_time": "2022-01-21T09:53:46.776013Z",
     "start_time": "2022-01-21T09:53:45.049323Z"
    }
   },
   "outputs": [
    {
     "data": {
      "text/plain": [
       "Pipeline(steps=[('pre_processing', TfidfVectorizer(lowercase=False)),\n",
       "                ('naive_bayes', MultinomialNB())])"
      ]
     },
     "execution_count": 39,
     "metadata": {},
     "output_type": "execute_result"
    }
   ],
   "source": [
    "# train the sentiment classifier \n",
    "sentiment_classifier.fit(X_train,y_train)"
   ]
  },
  {
   "cell_type": "code",
   "execution_count": 51,
   "id": "68a468b3",
   "metadata": {
    "ExecuteTime": {
     "end_time": "2022-01-21T10:00:32.856556Z",
     "start_time": "2022-01-21T10:00:32.465921Z"
    }
   },
   "outputs": [],
   "source": [
    "# test model performance on valid data \n",
    "y_preds = sentiment_classifier.predict(X_valid)"
   ]
  },
  {
   "cell_type": "code",
   "execution_count": 52,
   "id": "994e6f00",
   "metadata": {
    "ExecuteTime": {
     "end_time": "2022-01-21T10:00:33.661986Z",
     "start_time": "2022-01-21T10:00:33.653933Z"
    }
   },
   "outputs": [
    {
     "data": {
      "text/plain": [
       "0.9154666666666667"
      ]
     },
     "execution_count": 52,
     "metadata": {},
     "output_type": "execute_result"
    }
   ],
   "source": [
    "accuracy_score(y_valid,y_preds)"
   ]
  },
  {
   "cell_type": "code",
   "execution_count": 24,
   "id": "1a7ecd7a",
   "metadata": {
    "ExecuteTime": {
     "end_time": "2022-01-21T09:09:26.165593Z",
     "start_time": "2022-01-21T09:09:25.764841Z"
    }
   },
   "outputs": [
    {
     "data": {
      "text/plain": [
       "['model/sentiment_model_pipeline.pkl']"
      ]
     },
     "execution_count": 24,
     "metadata": {},
     "output_type": "execute_result"
    }
   ],
   "source": [
    "#save model \n",
    "import joblib \n",
    "joblib.dump(sentiment_classifier, 'model/sentiment_model_pipeline.pkl')"
   ]
  },
  {
   "cell_type": "code",
   "execution_count": 25,
   "id": "d2ca4006",
   "metadata": {
    "ExecuteTime": {
     "end_time": "2022-01-21T09:09:54.922179Z",
     "start_time": "2022-01-21T09:09:54.683586Z"
    }
   },
   "outputs": [],
   "source": [
    "#load model \n",
    "my_model = joblib.load(\"model/sentiment_model_pipeline.pkl\")"
   ]
  },
  {
   "cell_type": "code",
   "execution_count": 31,
   "id": "ae119fb4",
   "metadata": {
    "ExecuteTime": {
     "end_time": "2022-01-21T09:13:21.201556Z",
     "start_time": "2022-01-21T09:13:21.194458Z"
    }
   },
   "outputs": [],
   "source": [
    "review = text_cleaning(\"I love the movie from the marvel it was a best movie ever\") "
   ]
  },
  {
   "cell_type": "code",
   "execution_count": 32,
   "id": "b72bb807",
   "metadata": {
    "ExecuteTime": {
     "end_time": "2022-01-21T09:13:38.059560Z",
     "start_time": "2022-01-21T09:13:38.036564Z"
    }
   },
   "outputs": [
    {
     "data": {
      "text/plain": [
       "array([1])"
      ]
     },
     "execution_count": 32,
     "metadata": {},
     "output_type": "execute_result"
    }
   ],
   "source": [
    "my_model.predict([review]) "
   ]
  },
  {
   "cell_type": "code",
   "execution_count": null,
   "id": "29b4f667",
   "metadata": {},
   "outputs": [],
   "source": []
  }
 ],
 "metadata": {
  "hide_input": false,
  "kernelspec": {
   "display_name": "Python 3 (ipykernel)",
   "language": "python",
   "name": "python3"
  },
  "language_info": {
   "codemirror_mode": {
    "name": "ipython",
    "version": 3
   },
   "file_extension": ".py",
   "mimetype": "text/x-python",
   "name": "python",
   "nbconvert_exporter": "python",
   "pygments_lexer": "ipython3",
   "version": "3.9.7"
  }
 },
 "nbformat": 4,
 "nbformat_minor": 5
}
